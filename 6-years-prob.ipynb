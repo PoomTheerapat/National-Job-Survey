{
 "cells": [
  {
   "cell_type": "code",
   "execution_count": 4,
   "id": "acfc4c1c-8958-4a75-b1ef-3aba9ce52c8f",
   "metadata": {
    "tags": []
   },
   "outputs": [
    {
     "name": "stdout",
     "output_type": "stream",
     "text": [
      "Content of the file:\n",
      "\n",
      "犧ｸ\n",
      "Lines of the file:\n",
      "\n",
      "ุ\n"
     ]
    }
   ],
   "source": [
    "# Alternatively, if you want to read the file line by line into a list\n",
    "with open('6years.txt', 'r', encoding='utf-8') as file:\n",
    "    lines = file.readlines()\n",
    "\n",
    "# Print the content or lines\n",
    "print(\"Content of the file:\")\n",
    "print(content)\n",
    "\n",
    "# Or, if reading line by line\n",
    "print(\"Lines of the file:\")\n",
    "for line in lines:\n",
    "    print(line.strip())  # Use strip() to remove newline characters\n",
    "\n",
    "# Note: Replace 'your_file.txt' with the actual filename and path.\n"
   ]
  }
 ],
 "metadata": {
  "kernelspec": {
   "display_name": "Python 3 (ipykernel)",
   "language": "python",
   "name": "python3"
  },
  "language_info": {
   "codemirror_mode": {
    "name": "ipython",
    "version": 3
   },
   "file_extension": ".py",
   "mimetype": "text/x-python",
   "name": "python",
   "nbconvert_exporter": "python",
   "pygments_lexer": "ipython3",
   "version": "3.9.13"
  }
 },
 "nbformat": 4,
 "nbformat_minor": 5
}
